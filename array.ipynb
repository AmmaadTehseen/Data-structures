{
 "cells": [
  {
   "cell_type": "markdown",
   "metadata": {},
   "source": [
    "## Array Assignment"
   ]
  },
  {
   "cell_type": "code",
   "execution_count": 47,
   "metadata": {},
   "outputs": [],
   "source": [
    "a=[99,48,34,57, 65, 23, 54, 22 ,43 ,21]\n",
    "b=[99,43 ,34 ,54 ,65 ,23 ,54 ,22 ,43 ,21]\n",
    "c=[\"Abdul\",\" Owais\",\" Asad \",\"Talal \",\"Talha \",\"Ali\",\" Azhar \",\"Sami \",\"Bakr\",\" Umar\"]"
   ]
  },
  {
   "cell_type": "markdown",
   "metadata": {},
   "source": [
    "### 1. Print all the elements in the array (Code: Arr-PrintArray)"
   ]
  },
  {
   "cell_type": "code",
   "execution_count": 48,
   "metadata": {},
   "outputs": [
    {
     "name": "stdout",
     "output_type": "stream",
     "text": [
      "[99, 48, 34, 57, 65, 23, 54, 22, 43, 21]\n",
      "[99, 43, 34, 54, 65, 23, 54, 22, 43, 21]\n",
      "['Abdul', ' Owais', ' Asad ', 'Talal ', 'Talha ', 'Ali', ' Azhar ', 'Sami ', 'Bakr', ' Umar']\n"
     ]
    }
   ],
   "source": [
    "print(a)\n",
    "print(b)\n",
    "print(c)"
   ]
  },
  {
   "cell_type": "markdown",
   "metadata": {},
   "source": [
    "### 2. Write a code that assign the values of an array into another array (Code: Arr-ReverseArray)"
   ]
  },
  {
   "cell_type": "code",
   "execution_count": 49,
   "metadata": {},
   "outputs": [],
   "source": [
    "d=[]\n",
    "e=[]\n",
    "f=[]"
   ]
  },
  {
   "cell_type": "code",
   "execution_count": 50,
   "metadata": {},
   "outputs": [],
   "source": [
    "d=a\n",
    "e=b\n",
    "f=c"
   ]
  },
  {
   "cell_type": "code",
   "execution_count": 51,
   "metadata": {},
   "outputs": [
    {
     "name": "stdout",
     "output_type": "stream",
     "text": [
      "[99, 48, 34, 57, 65, 23, 54, 22, 43, 21]\n",
      "[99, 43, 34, 54, 65, 23, 54, 22, 43, 21]\n",
      "['Abdul', ' Owais', ' Asad ', 'Talal ', 'Talha ', 'Ali', ' Azhar ', 'Sami ', 'Bakr', ' Umar']\n"
     ]
    }
   ],
   "source": [
    "print(d)\n",
    "print(e)\n",
    "print(f)"
   ]
  },
  {
   "cell_type": "markdown",
   "metadata": {},
   "source": [
    "### 3. Write a function to Return the Reverse of the array (Code: Arr-ReverseArray)\n",
    "\n"
   ]
  },
  {
   "cell_type": "code",
   "execution_count": 52,
   "metadata": {},
   "outputs": [
    {
     "name": "stdout",
     "output_type": "stream",
     "text": [
      "[21, 43, 22, 54, 23, 65, 57, 34, 48, 99]\n"
     ]
    }
   ],
   "source": [
    "def reverse_arr(a):\n",
    "    print(a[::-1])\n",
    "\n",
    "reverse_arr(a)    "
   ]
  },
  {
   "cell_type": "markdown",
   "metadata": {},
   "source": [
    "### 4. Write a function to Return the mode of the array"
   ]
  },
  {
   "cell_type": "code",
   "execution_count": 24,
   "metadata": {},
   "outputs": [
    {
     "name": "stdout",
     "output_type": "stream",
     "text": [
      "{2, 4}\n"
     ]
    }
   ],
   "source": [
    "list=[ 2, 1, 4, 3, 2 ,2, 3, 4,0, 5,4]\n",
    "def mode(a):\n",
    "    n=0\n",
    "    mode={}\n",
    "    for x in list:\n",
    "        m=0\n",
    "        for y in list:\n",
    "            if x==y:\n",
    "                m=m+1\n",
    "        if n<m:\n",
    "            n=m\n",
    "            mode.clear()\n",
    "            mode={x}\n",
    "        if n==m:\n",
    "            mode.add(x)\n",
    "    return mode\n",
    "print(mode(list))\n"
   ]
  },
  {
   "cell_type": "markdown",
   "metadata": {},
   "source": [
    "### 5. Write a function to Return the minimum of the array\n"
   ]
  },
  {
   "cell_type": "code",
   "execution_count": 25,
   "metadata": {},
   "outputs": [
    {
     "name": "stdout",
     "output_type": "stream",
     "text": [
      "-1\n"
     ]
    }
   ],
   "source": [
    "list=[ 2, 1,-1, 4, 3, 2 ,2, 3, 4,0, 5]\n",
    "def min(a):\n",
    "    min=a[0]\n",
    "    for x in range(1,len(a)):\n",
    "        if a[x]<min:\n",
    "            min=a[x]\n",
    "    print(min)\n",
    "\n",
    "min(list)       \n"
   ]
  },
  {
   "cell_type": "markdown",
   "metadata": {},
   "source": [
    "### 6. Return the Maximum element of the array"
   ]
  },
  {
   "cell_type": "code",
   "execution_count": 34,
   "metadata": {},
   "outputs": [
    {
     "name": "stdout",
     "output_type": "stream",
     "text": [
      "5\n"
     ]
    }
   ],
   "source": [
    "list=[ 2, 1,-1, 4, 3, 2 ,2, 3, 4,0, 5]\n",
    "def max(a):\n",
    "    max=a[0]\n",
    "    for x in range(1,len(a)):\n",
    "        if a[x]>max:\n",
    "            max=a[x]\n",
    "    print(max)\n",
    "\n",
    "max(list)"
   ]
  },
  {
   "cell_type": "markdown",
   "metadata": {},
   "source": [
    "### 7. Return the length of the array"
   ]
  },
  {
   "cell_type": "code",
   "execution_count": 31,
   "metadata": {},
   "outputs": [
    {
     "data": {
      "text/plain": [
       "11"
      ]
     },
     "execution_count": 31,
     "metadata": {},
     "output_type": "execute_result"
    }
   ],
   "source": [
    "len(list)"
   ]
  },
  {
   "cell_type": "markdown",
   "metadata": {},
   "source": [
    "### 8. Insert the element in the start of the array"
   ]
  },
  {
   "cell_type": "code",
   "execution_count": 35,
   "metadata": {},
   "outputs": [
    {
     "data": {
      "text/plain": [
       "[2, 2, 1, -1, 4, 3, 2, 2, 3, 4, 0, 5]"
      ]
     },
     "execution_count": 35,
     "metadata": {},
     "output_type": "execute_result"
    }
   ],
   "source": [
    "list.insert(0,2)\n",
    "list"
   ]
  },
  {
   "cell_type": "markdown",
   "metadata": {},
   "source": [
    "### 9. Insert the element in the end of the array\n"
   ]
  },
  {
   "cell_type": "code",
   "execution_count": 36,
   "metadata": {},
   "outputs": [],
   "source": [
    "list.insert(len(list),123)"
   ]
  },
  {
   "cell_type": "code",
   "execution_count": 48,
   "metadata": {},
   "outputs": [
    {
     "data": {
      "text/plain": [
       "[2, 2, 1, -1, 4, 3, 2, 2, 3, 4, 0, 5, 123]"
      ]
     },
     "execution_count": 48,
     "metadata": {},
     "output_type": "execute_result"
    }
   ],
   "source": [
    "list"
   ]
  },
  {
   "cell_type": "markdown",
   "metadata": {},
   "source": [
    "### 10. Insert the element in the middle"
   ]
  },
  {
   "cell_type": "code",
   "execution_count": 51,
   "metadata": {},
   "outputs": [
    {
     "ename": "TypeError",
     "evalue": "'float' object is not callable",
     "output_type": "error",
     "traceback": [
      "\u001b[1;31m---------------------------------------------------------------------------\u001b[0m",
      "\u001b[1;31mTypeError\u001b[0m                                 Traceback (most recent call last)",
      "\u001b[1;32mC:\\Users\\AMMAAD~1\\AppData\\Local\\Temp/ipykernel_7904/3197556869.py\u001b[0m in \u001b[0;36m<module>\u001b[1;34m\u001b[0m\n\u001b[1;32m----> 1\u001b[1;33m \u001b[0mlen\u001b[0m\u001b[1;33m(\u001b[0m\u001b[0mlist\u001b[0m\u001b[1;33m)\u001b[0m\u001b[1;33m\u001b[0m\u001b[1;33m\u001b[0m\u001b[0m\n\u001b[0m",
      "\u001b[1;31mTypeError\u001b[0m: 'float' object is not callable"
     ]
    }
   ],
   "source": [
    "len(list)\n"
   ]
  },
  {
   "cell_type": "code",
   "execution_count": null,
   "metadata": {},
   "outputs": [],
   "source": []
  },
  {
   "cell_type": "code",
   "execution_count": null,
   "metadata": {},
   "outputs": [],
   "source": []
  },
  {
   "cell_type": "code",
   "execution_count": null,
   "metadata": {},
   "outputs": [],
   "source": []
  },
  {
   "cell_type": "markdown",
   "metadata": {},
   "source": [
    "### 20. getting prime numbers "
   ]
  },
  {
   "cell_type": "code",
   "execution_count": 7,
   "metadata": {},
   "outputs": [
    {
     "name": "stdout",
     "output_type": "stream",
     "text": [
      "2\n",
      "5\n",
      "3\n",
      "2\n",
      "5\n",
      "13\n",
      "11\n",
      "17\n",
      "19\n"
     ]
    }
   ],
   "source": [
    "arr=[2,5,4,6,34,3,2,5,76,4,13,11,17,19]\n",
    "for x in arr:\n",
    "    prime=False\n",
    "    if x>1:\n",
    "        for i in range(2,x-1):\n",
    "            if x%i==0 :\n",
    "                prime=True\n",
    "                break\n",
    "    if prime is False:\n",
    "        print(x)\n",
    "\n",
    "                \n"
   ]
  }
 ],
 "metadata": {
  "kernelspec": {
   "display_name": "Python 3.9.7 ('base')",
   "language": "python",
   "name": "python3"
  },
  "language_info": {
   "codemirror_mode": {
    "name": "ipython",
    "version": 3
   },
   "file_extension": ".py",
   "mimetype": "text/x-python",
   "name": "python",
   "nbconvert_exporter": "python",
   "pygments_lexer": "ipython3",
   "version": "3.9.7"
  },
  "orig_nbformat": 4,
  "vscode": {
   "interpreter": {
    "hash": "b465711616fac1bd41295d8145f1cf12bbbe171044a38d407054a088c3f2b7c1"
   }
  }
 },
 "nbformat": 4,
 "nbformat_minor": 2
}
