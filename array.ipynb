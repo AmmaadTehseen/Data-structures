{
 "cells": [
  {
   "cell_type": "markdown",
   "metadata": {},
   "source": [
    "# Array Assignment"
   ]
  },
  {
   "cell_type": "code",
   "execution_count": 21,
   "metadata": {},
   "outputs": [],
   "source": [
    "a=[99,48,34,57, 65, 23, 54, 22 ,43 ,21]\n",
    "b=[99 ,43 ,34 ,54 ,65 ,23 ,54 ,22 ,43 ,21]\n",
    "c=[\"Abdul\",\" Owais\",\" Asad \",\"Talal \",\"Talha \",\"Ali\",\" Azhar \",\"Sami \",\"Bakr\",\" Umar\"]"
   ]
  },
  {
   "cell_type": "markdown",
   "metadata": {},
   "source": [
    "### 1. Print all the elements in the array (Code: Arr-PrintArray)"
   ]
  },
  {
   "cell_type": "code",
   "execution_count": 22,
   "metadata": {},
   "outputs": [
    {
     "name": "stdout",
     "output_type": "stream",
     "text": [
      "[99, 48, 34, 57, 65, 23, 54, 22, 43, 21]\n",
      "[99, 43, 34, 54, 65, 23, 54, 22, 43, 21]\n",
      "['Abdul', ' Owais', ' Asad ', 'Talal ', 'Talha ', 'Ali', ' Azhar ', 'Sami ', 'Bakr', ' Umar']\n"
     ]
    }
   ],
   "source": [
    "print(a)\n",
    "print(b)\n",
    "print(c)"
   ]
  },
  {
   "cell_type": "markdown",
   "metadata": {},
   "source": [
    "### 2. Write a code that assign the values of an array into another array (Code: Arr-ReverseArray)"
   ]
  },
  {
   "cell_type": "code",
   "execution_count": 26,
   "metadata": {},
   "outputs": [],
   "source": [
    "d=[]\n",
    "e=[]\n",
    "f=[]"
   ]
  },
  {
   "cell_type": "code",
   "execution_count": 27,
   "metadata": {},
   "outputs": [],
   "source": [
    "d=a\n",
    "e=b\n",
    "f=c"
   ]
  },
  {
   "cell_type": "code",
   "execution_count": 30,
   "metadata": {},
   "outputs": [
    {
     "name": "stdout",
     "output_type": "stream",
     "text": [
      "[99, 48, 34, 57, 65, 23, 54, 22, 43, 21]\n",
      "[99, 43, 34, 54, 65, 23, 54, 22, 43, 21]\n",
      "['Abdul', ' Owais', ' Asad ', 'Talal ', 'Talha ', 'Ali', ' Azhar ', 'Sami ', 'Bakr', ' Umar']\n"
     ]
    }
   ],
   "source": [
    "print(d)\n",
    "print(e)\n",
    "print(f)"
   ]
  },
  {
   "cell_type": "markdown",
   "metadata": {},
   "source": [
    "-Q1"
   ]
  },
  {
   "cell_type": "code",
   "execution_count": null,
   "metadata": {},
   "outputs": [],
   "source": []
  }
 ],
 "metadata": {
  "kernelspec": {
   "display_name": "Python 3.9.7 ('base')",
   "language": "python",
   "name": "python3"
  },
  "language_info": {
   "codemirror_mode": {
    "name": "ipython",
    "version": 3
   },
   "file_extension": ".py",
   "mimetype": "text/x-python",
   "name": "python",
   "nbconvert_exporter": "python",
   "pygments_lexer": "ipython3",
   "version": "3.9.7"
  },
  "orig_nbformat": 4,
  "vscode": {
   "interpreter": {
    "hash": "b465711616fac1bd41295d8145f1cf12bbbe171044a38d407054a088c3f2b7c1"
   }
  }
 },
 "nbformat": 4,
 "nbformat_minor": 2
}
